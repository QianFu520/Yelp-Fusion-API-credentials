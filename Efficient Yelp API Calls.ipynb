{
 "cells": [
  {
   "cell_type": "code",
   "execution_count": 1,
   "id": "7cc678ef",
   "metadata": {},
   "outputs": [],
   "source": [
    "import numpy as np\n",
    "import pandas as pd\n",
    "import matplotlib.pyplot as plt\n",
    "import seaborn as sns\n",
    "import os, json, math, time\n",
    "from yelpapi import YelpAPI\n",
    "from tqdm.notebook import tqdm_notebook"
   ]
  },
  {
   "cell_type": "code",
   "execution_count": 2,
   "id": "40e53522",
   "metadata": {},
   "outputs": [
    {
     "name": "stdout",
     "output_type": "stream",
     "text": [
      "Requirement already satisfied: tqdm in c:\\users\\qfu88\\anaconda3\\envs\\dojo-env\\lib\\site-packages (4.64.1)\n",
      "Requirement already satisfied: colorama in c:\\users\\qfu88\\anaconda3\\envs\\dojo-env\\lib\\site-packages (from tqdm) (0.4.5)\n"
     ]
    }
   ],
   "source": [
    "# Install tmdbsimple\n",
    "!pip install tqdm"
   ]
  },
  {
   "cell_type": "code",
   "execution_count": 3,
   "id": "39c676f0",
   "metadata": {},
   "outputs": [],
   "source": [
    "with open('/Users/qfu88/.secret/yelp_api.json') as f: \n",
    "    login = json.load(f)\n",
    "yelp_api = YelpAPI(login['api-key'], timeout_s=5.0)"
   ]
  },
  {
   "cell_type": "code",
   "execution_count": 4,
   "id": "07d001b5",
   "metadata": {},
   "outputs": [],
   "source": [
    "# set our API call parameters \n",
    "LOCATION = 'Chicago, IL'\n",
    "TERM = 'Sandwich'"
   ]
  },
  {
   "cell_type": "code",
   "execution_count": 5,
   "id": "cb4d05af",
   "metadata": {},
   "outputs": [
    {
     "data": {
      "text/plain": [
       "'Data/results_in_progress_Chicago_Sandwich.json'"
      ]
     },
     "execution_count": 5,
     "metadata": {},
     "output_type": "execute_result"
    }
   ],
   "source": [
    "# Specifying JSON_FILE filename (can include a folder)\n",
    "# include the search terms in the filename\n",
    "JSON_FILE = \"Data/results_in_progress_Chicago_Sandwich.json\"\n",
    "JSON_FILE"
   ]
  },
  {
   "cell_type": "code",
   "execution_count": 6,
   "id": "e524c2cb",
   "metadata": {},
   "outputs": [
    {
     "name": "stdout",
     "output_type": "stream",
     "text": [
      "[i] Data/results_in_progress_Chicago_Sandwich.json already exists.\n"
     ]
    }
   ],
   "source": [
    "## Check if JSON_FILE exists\n",
    "file_exists = os.path.isfile(JSON_FILE)\n",
    "## If it does not exist: \n",
    "if file_exists == False:\n",
    "    \n",
    "    ## CREATE ANY NEEDED FOLDERS\n",
    "    # Get the Folder Name only\n",
    "    folder = os.path.dirname(JSON_FILE)\n",
    "    ## If JSON_FILE included a folder:\n",
    "    if len(folder)>0:\n",
    "        # create the folder\n",
    "        os.makedirs(folder,exist_ok=True)\n",
    "        \n",
    "        \n",
    "    ## INFORM USER AND SAVE EMPTY LIST\n",
    "    print(f\"[i] {JSON_FILE} not found. Saving empty list to file.\")\n",
    "    \n",
    "    \n",
    "    ## save the first page of results\n",
    "    with open(JSON_FILE,'w') as f:\n",
    "        json.dump([],f)  \n",
    "## If it exists, inform user\n",
    "else:\n",
    "    print(f\"[i] {JSON_FILE} already exists.\")\n"
   ]
  },
  {
   "cell_type": "code",
   "execution_count": 7,
   "id": "9e84fa30",
   "metadata": {},
   "outputs": [
    {
     "name": "stdout",
     "output_type": "stream",
     "text": [
      "- 20 previous results found.\n"
     ]
    }
   ],
   "source": [
    "## Load previous results and use len of results for offset\n",
    "with open(JSON_FILE,'r') as f:\n",
    "    previous_results = json.load(f)\n",
    "    \n",
    "## set offset based on previous results\n",
    "n_results = len(previous_results)\n",
    "print(f'- {n_results} previous results found.')"
   ]
  },
  {
   "cell_type": "code",
   "execution_count": 8,
   "id": "477cfd1b",
   "metadata": {},
   "outputs": [
    {
     "data": {
      "text/plain": [
       "dict_keys(['businesses', 'total', 'region'])"
      ]
     },
     "execution_count": 8,
     "metadata": {},
     "output_type": "execute_result"
    }
   ],
   "source": [
    "# use our yelp_api variable's search_query method to perform our API call\n",
    "results = yelp_api.search_query(location=LOCATION,\n",
    "                                term=TERM,\n",
    "                               offset=n_results)\n",
    "results.keys()"
   ]
  },
  {
   "cell_type": "code",
   "execution_count": 9,
   "id": "9270ce1a",
   "metadata": {},
   "outputs": [
    {
     "data": {
      "text/plain": [
       "9500"
      ]
     },
     "execution_count": 9,
     "metadata": {},
     "output_type": "execute_result"
    }
   ],
   "source": [
    "## How many results total?\n",
    "total_results = results['total']\n",
    "total_results"
   ]
  },
  {
   "cell_type": "code",
   "execution_count": 10,
   "id": "09704351",
   "metadata": {},
   "outputs": [
    {
     "data": {
      "text/plain": [
       "20"
      ]
     },
     "execution_count": 10,
     "metadata": {},
     "output_type": "execute_result"
    }
   ],
   "source": [
    "## How many did we get the details for?\n",
    "results_per_page = len(results['businesses'])\n",
    "results_per_page"
   ]
  },
  {
   "cell_type": "code",
   "execution_count": 11,
   "id": "4bbd31e5",
   "metadata": {},
   "outputs": [
    {
     "data": {
      "text/plain": [
       "474"
      ]
     },
     "execution_count": 11,
     "metadata": {},
     "output_type": "execute_result"
    }
   ],
   "source": [
    "# Use math.ceil to round up for the total number of pages of results.\n",
    "n_pages = math.ceil((results['total']-n_results)/ results_per_page)\n",
    "n_pages"
   ]
  },
  {
   "cell_type": "code",
   "execution_count": 12,
   "id": "60321b1f",
   "metadata": {},
   "outputs": [],
   "source": [
    "# join new results with old list with extend and save to file\n",
    "previous_results.extend(results['businesses'])  \n",
    "with open(JSON_FILE,'w') as f:\n",
    "     json.dump(previous_results,f)"
   ]
  },
  {
   "cell_type": "code",
   "execution_count": 13,
   "id": "a35e6a40",
   "metadata": {},
   "outputs": [
    {
     "data": {
      "application/vnd.jupyter.widget-view+json": {
       "model_id": "897aebbdf1a54709b8c62c428c16e5dc",
       "version_major": 2,
       "version_minor": 0
      },
      "text/plain": [
       "  0%|          | 0/474 [00:00<?, ?it/s]"
      ]
     },
     "metadata": {},
     "output_type": "display_data"
    }
   ],
   "source": [
    "for i in tqdm_notebook(range(n_pages)):\n",
    "    # adds 200 ms pause\n",
    "    time.sleep(.2)"
   ]
  },
  {
   "cell_type": "code",
   "execution_count": 14,
   "id": "8a97f4c0",
   "metadata": {},
   "outputs": [
    {
     "data": {
      "application/vnd.jupyter.widget-view+json": {
       "model_id": "cf6040efa24d476f88d8bc251955be98",
       "version_major": 2,
       "version_minor": 0
      },
      "text/plain": [
       "  0%|          | 0/474 [00:00<?, ?it/s]"
      ]
     },
     "metadata": {},
     "output_type": "display_data"
    },
    {
     "name": "stdout",
     "output_type": "stream",
     "text": [
      "Exceeded 1000 api calls. Stopping loop.\n"
     ]
    }
   ],
   "source": [
    "for i in tqdm_notebook( range(1,n_pages+1)):\n",
    "    \n",
    "    ## Read in results in progress file and check the length\n",
    "    with open(JSON_FILE, 'r') as f:\n",
    "        previous_results = json.load(f)\n",
    "    ## save number of results for to use as offset\n",
    "    n_results = len(previous_results)\n",
    "    \n",
    "    if (n_results + results_per_page) > 1000:\n",
    "        print('Exceeded 1000 api calls. Stopping loop.')\n",
    "        break\n",
    "    \n",
    "    ## use n_results as the OFFSET \n",
    "    results = yelp_api.search_query(location=LOCATION,\n",
    "                                    term=TERM, \n",
    "                                    offset=n_results)\n",
    "    \n",
    "    \n",
    "    \n",
    "    ## append new results and save to file\n",
    "    previous_results.extend(results['businesses'])\n",
    "    \n",
    "    # display(previous_results)\n",
    "    with open(JSON_FILE,'w') as f:\n",
    "        json.dump(previous_results,f)\n",
    "    \n",
    "    time.sleep(.2)\n",
    "\n"
   ]
  },
  {
   "cell_type": "code",
   "execution_count": 15,
   "id": "9478782c",
   "metadata": {},
   "outputs": [
    {
     "data": {
      "text/html": [
       "<div>\n",
       "<style scoped>\n",
       "    .dataframe tbody tr th:only-of-type {\n",
       "        vertical-align: middle;\n",
       "    }\n",
       "\n",
       "    .dataframe tbody tr th {\n",
       "        vertical-align: top;\n",
       "    }\n",
       "\n",
       "    .dataframe thead th {\n",
       "        text-align: right;\n",
       "    }\n",
       "</style>\n",
       "<table border=\"1\" class=\"dataframe\">\n",
       "  <thead>\n",
       "    <tr style=\"text-align: right;\">\n",
       "      <th></th>\n",
       "      <th>id</th>\n",
       "      <th>alias</th>\n",
       "      <th>name</th>\n",
       "      <th>image_url</th>\n",
       "      <th>is_closed</th>\n",
       "      <th>url</th>\n",
       "      <th>review_count</th>\n",
       "      <th>categories</th>\n",
       "      <th>rating</th>\n",
       "      <th>coordinates</th>\n",
       "      <th>transactions</th>\n",
       "      <th>price</th>\n",
       "      <th>location</th>\n",
       "      <th>phone</th>\n",
       "      <th>display_phone</th>\n",
       "      <th>distance</th>\n",
       "    </tr>\n",
       "  </thead>\n",
       "  <tbody>\n",
       "    <tr>\n",
       "      <th>0</th>\n",
       "      <td>xHdy8fbDVB4Nb_WGBN50Ow</td>\n",
       "      <td>humboldt-haus-sandwich-bar-chicago-2</td>\n",
       "      <td>Humboldt Haus Sandwich Bar</td>\n",
       "      <td>https://s3-media2.fl.yelpcdn.com/bphoto/efcW7c...</td>\n",
       "      <td>False</td>\n",
       "      <td>https://www.yelp.com/biz/humboldt-haus-sandwic...</td>\n",
       "      <td>253</td>\n",
       "      <td>[{'alias': 'sandwiches', 'title': 'Sandwiches'...</td>\n",
       "      <td>4.5</td>\n",
       "      <td>{'latitude': 41.910374, 'longitude': -87.701357}</td>\n",
       "      <td>[delivery, pickup]</td>\n",
       "      <td>$</td>\n",
       "      <td>{'address1': '2958 W North Ave', 'address2': N...</td>\n",
       "      <td>+17736979590</td>\n",
       "      <td>(773) 697-9590</td>\n",
       "      <td>2036.619737</td>\n",
       "    </tr>\n",
       "    <tr>\n",
       "      <th>1</th>\n",
       "      <td>JIyH_X4bfwlcYaPZwJMt8g</td>\n",
       "      <td>tribecca-s-sandwich-shop-chicago</td>\n",
       "      <td>TriBecca’s Sandwich Shop</td>\n",
       "      <td>https://s3-media4.fl.yelpcdn.com/bphoto/0nKQrm...</td>\n",
       "      <td>False</td>\n",
       "      <td>https://www.yelp.com/biz/tribecca-s-sandwich-s...</td>\n",
       "      <td>33</td>\n",
       "      <td>[{'alias': 'sandwiches', 'title': 'Sandwiches'}]</td>\n",
       "      <td>4.5</td>\n",
       "      <td>{'latitude': 41.939274964805755, 'longitude': ...</td>\n",
       "      <td>[]</td>\n",
       "      <td>NaN</td>\n",
       "      <td>{'address1': '2949 W Belmont Ave', 'address2':...</td>\n",
       "      <td>+17738782717</td>\n",
       "      <td>(773) 878-2717</td>\n",
       "      <td>4300.250063</td>\n",
       "    </tr>\n",
       "    <tr>\n",
       "      <th>2</th>\n",
       "      <td>NmynDaHorWl1uO2ppOouUA</td>\n",
       "      <td>la-sandwichera-chicago</td>\n",
       "      <td>La Sandwichera</td>\n",
       "      <td>https://s3-media2.fl.yelpcdn.com/bphoto/-QPZTK...</td>\n",
       "      <td>False</td>\n",
       "      <td>https://www.yelp.com/biz/la-sandwichera-chicag...</td>\n",
       "      <td>12</td>\n",
       "      <td>[{'alias': 'sandwiches', 'title': 'Sandwiches'}]</td>\n",
       "      <td>4.5</td>\n",
       "      <td>{'latitude': 41.902763142599, 'longitude': -87...</td>\n",
       "      <td>[delivery]</td>\n",
       "      <td>NaN</td>\n",
       "      <td>{'address1': '2721 W Division St', 'address2':...</td>\n",
       "      <td>+17736977477</td>\n",
       "      <td>(773) 697-7477</td>\n",
       "      <td>1479.029452</td>\n",
       "    </tr>\n",
       "    <tr>\n",
       "      <th>3</th>\n",
       "      <td>aWGYz1HiFcWBzEtyofewOA</td>\n",
       "      <td>zenwich-x-elitea-wicker-park-chicago-5</td>\n",
       "      <td>Zenwich X Elitea - Wicker Park</td>\n",
       "      <td>https://s3-media3.fl.yelpcdn.com/bphoto/3adpFs...</td>\n",
       "      <td>False</td>\n",
       "      <td>https://www.yelp.com/biz/zenwich-x-elitea-wick...</td>\n",
       "      <td>67</td>\n",
       "      <td>[{'alias': 'sandwiches', 'title': 'Sandwiches'...</td>\n",
       "      <td>4.5</td>\n",
       "      <td>{'latitude': 41.90772, 'longitude': -87.67291}</td>\n",
       "      <td>[delivery, pickup]</td>\n",
       "      <td>$$</td>\n",
       "      <td>{'address1': '1415 N Milwaukee Av', 'address2'...</td>\n",
       "      <td>+17736619453</td>\n",
       "      <td>(773) 661-9453</td>\n",
       "      <td>493.424885</td>\n",
       "    </tr>\n",
       "    <tr>\n",
       "      <th>4</th>\n",
       "      <td>TrHpyyurfCHWUQMpsLyxVw</td>\n",
       "      <td>bari-foods-chicago-3</td>\n",
       "      <td>Bari Foods</td>\n",
       "      <td>https://s3-media3.fl.yelpcdn.com/bphoto/h23U_D...</td>\n",
       "      <td>False</td>\n",
       "      <td>https://www.yelp.com/biz/bari-foods-chicago-3?...</td>\n",
       "      <td>827</td>\n",
       "      <td>[{'alias': 'grocery', 'title': 'Grocery'}, {'a...</td>\n",
       "      <td>4.5</td>\n",
       "      <td>{'latitude': 41.891311, 'longitude': -87.65554}</td>\n",
       "      <td>[delivery, pickup]</td>\n",
       "      <td>$</td>\n",
       "      <td>{'address1': '1120 W Grand Ave', 'address2': N...</td>\n",
       "      <td>+13126660730</td>\n",
       "      <td>(312) 666-0730</td>\n",
       "      <td>2399.567084</td>\n",
       "    </tr>\n",
       "  </tbody>\n",
       "</table>\n",
       "</div>"
      ],
      "text/plain": [
       "                       id                                   alias  \\\n",
       "0  xHdy8fbDVB4Nb_WGBN50Ow    humboldt-haus-sandwich-bar-chicago-2   \n",
       "1  JIyH_X4bfwlcYaPZwJMt8g        tribecca-s-sandwich-shop-chicago   \n",
       "2  NmynDaHorWl1uO2ppOouUA                  la-sandwichera-chicago   \n",
       "3  aWGYz1HiFcWBzEtyofewOA  zenwich-x-elitea-wicker-park-chicago-5   \n",
       "4  TrHpyyurfCHWUQMpsLyxVw                    bari-foods-chicago-3   \n",
       "\n",
       "                             name  \\\n",
       "0      Humboldt Haus Sandwich Bar   \n",
       "1        TriBecca’s Sandwich Shop   \n",
       "2                  La Sandwichera   \n",
       "3  Zenwich X Elitea - Wicker Park   \n",
       "4                      Bari Foods   \n",
       "\n",
       "                                           image_url  is_closed  \\\n",
       "0  https://s3-media2.fl.yelpcdn.com/bphoto/efcW7c...      False   \n",
       "1  https://s3-media4.fl.yelpcdn.com/bphoto/0nKQrm...      False   \n",
       "2  https://s3-media2.fl.yelpcdn.com/bphoto/-QPZTK...      False   \n",
       "3  https://s3-media3.fl.yelpcdn.com/bphoto/3adpFs...      False   \n",
       "4  https://s3-media3.fl.yelpcdn.com/bphoto/h23U_D...      False   \n",
       "\n",
       "                                                 url  review_count  \\\n",
       "0  https://www.yelp.com/biz/humboldt-haus-sandwic...           253   \n",
       "1  https://www.yelp.com/biz/tribecca-s-sandwich-s...            33   \n",
       "2  https://www.yelp.com/biz/la-sandwichera-chicag...            12   \n",
       "3  https://www.yelp.com/biz/zenwich-x-elitea-wick...            67   \n",
       "4  https://www.yelp.com/biz/bari-foods-chicago-3?...           827   \n",
       "\n",
       "                                          categories  rating  \\\n",
       "0  [{'alias': 'sandwiches', 'title': 'Sandwiches'...     4.5   \n",
       "1   [{'alias': 'sandwiches', 'title': 'Sandwiches'}]     4.5   \n",
       "2   [{'alias': 'sandwiches', 'title': 'Sandwiches'}]     4.5   \n",
       "3  [{'alias': 'sandwiches', 'title': 'Sandwiches'...     4.5   \n",
       "4  [{'alias': 'grocery', 'title': 'Grocery'}, {'a...     4.5   \n",
       "\n",
       "                                         coordinates        transactions  \\\n",
       "0   {'latitude': 41.910374, 'longitude': -87.701357}  [delivery, pickup]   \n",
       "1  {'latitude': 41.939274964805755, 'longitude': ...                  []   \n",
       "2  {'latitude': 41.902763142599, 'longitude': -87...          [delivery]   \n",
       "3     {'latitude': 41.90772, 'longitude': -87.67291}  [delivery, pickup]   \n",
       "4    {'latitude': 41.891311, 'longitude': -87.65554}  [delivery, pickup]   \n",
       "\n",
       "  price                                           location         phone  \\\n",
       "0     $  {'address1': '2958 W North Ave', 'address2': N...  +17736979590   \n",
       "1   NaN  {'address1': '2949 W Belmont Ave', 'address2':...  +17738782717   \n",
       "2   NaN  {'address1': '2721 W Division St', 'address2':...  +17736977477   \n",
       "3    $$  {'address1': '1415 N Milwaukee Av', 'address2'...  +17736619453   \n",
       "4     $  {'address1': '1120 W Grand Ave', 'address2': N...  +13126660730   \n",
       "\n",
       "    display_phone     distance  \n",
       "0  (773) 697-9590  2036.619737  \n",
       "1  (773) 878-2717  4300.250063  \n",
       "2  (773) 697-7477  1479.029452  \n",
       "3  (773) 661-9453   493.424885  \n",
       "4  (312) 666-0730  2399.567084  "
      ]
     },
     "metadata": {},
     "output_type": "display_data"
    },
    {
     "data": {
      "text/html": [
       "<div>\n",
       "<style scoped>\n",
       "    .dataframe tbody tr th:only-of-type {\n",
       "        vertical-align: middle;\n",
       "    }\n",
       "\n",
       "    .dataframe tbody tr th {\n",
       "        vertical-align: top;\n",
       "    }\n",
       "\n",
       "    .dataframe thead th {\n",
       "        text-align: right;\n",
       "    }\n",
       "</style>\n",
       "<table border=\"1\" class=\"dataframe\">\n",
       "  <thead>\n",
       "    <tr style=\"text-align: right;\">\n",
       "      <th></th>\n",
       "      <th>id</th>\n",
       "      <th>alias</th>\n",
       "      <th>name</th>\n",
       "      <th>image_url</th>\n",
       "      <th>is_closed</th>\n",
       "      <th>url</th>\n",
       "      <th>review_count</th>\n",
       "      <th>categories</th>\n",
       "      <th>rating</th>\n",
       "      <th>coordinates</th>\n",
       "      <th>transactions</th>\n",
       "      <th>price</th>\n",
       "      <th>location</th>\n",
       "      <th>phone</th>\n",
       "      <th>display_phone</th>\n",
       "      <th>distance</th>\n",
       "    </tr>\n",
       "  </thead>\n",
       "  <tbody>\n",
       "    <tr>\n",
       "      <th>995</th>\n",
       "      <td>CF4W2FqdND7l8ofXS6nmMg</td>\n",
       "      <td>tropical-smoothie-cafe-burbank</td>\n",
       "      <td>Tropical Smoothie Cafe</td>\n",
       "      <td>https://s3-media2.fl.yelpcdn.com/bphoto/Zb-Aiv...</td>\n",
       "      <td>False</td>\n",
       "      <td>https://www.yelp.com/biz/tropical-smoothie-caf...</td>\n",
       "      <td>2</td>\n",
       "      <td>[{'alias': 'juicebars', 'title': 'Juice Bars &amp;...</td>\n",
       "      <td>5.0</td>\n",
       "      <td>{'latitude': 41.751365, 'longitude': -87.7416178}</td>\n",
       "      <td>[pickup, delivery]</td>\n",
       "      <td>NaN</td>\n",
       "      <td>{'address1': '7784 S Cicero Ave', 'address2': ...</td>\n",
       "      <td>+17085293946</td>\n",
       "      <td>(708) 529-3946</td>\n",
       "      <td>17905.788918</td>\n",
       "    </tr>\n",
       "    <tr>\n",
       "      <th>996</th>\n",
       "      <td>EdKG2DIWoHR2W7gc49N4rg</td>\n",
       "      <td>mr-submarine-chicago-4</td>\n",
       "      <td>Mr Submarine</td>\n",
       "      <td>https://s3-media2.fl.yelpcdn.com/bphoto/tYSfOH...</td>\n",
       "      <td>False</td>\n",
       "      <td>https://www.yelp.com/biz/mr-submarine-chicago-...</td>\n",
       "      <td>56</td>\n",
       "      <td>[{'alias': 'sandwiches', 'title': 'Sandwiches'...</td>\n",
       "      <td>3.0</td>\n",
       "      <td>{'latitude': 41.9249099, 'longitude': -87.66665}</td>\n",
       "      <td>[pickup, delivery]</td>\n",
       "      <td>$</td>\n",
       "      <td>{'address1': '1525 W Fullerton Ave', 'address2...</td>\n",
       "      <td>+17733486018</td>\n",
       "      <td>(773) 348-6018</td>\n",
       "      <td>2370.724676</td>\n",
       "    </tr>\n",
       "    <tr>\n",
       "      <th>997</th>\n",
       "      <td>7cXjpAbeA7ApvKHx6FcCOQ</td>\n",
       "      <td>mcalisters-deli-glenview</td>\n",
       "      <td>McAlister's Deli</td>\n",
       "      <td>https://s3-media3.fl.yelpcdn.com/bphoto/ojhVia...</td>\n",
       "      <td>False</td>\n",
       "      <td>https://www.yelp.com/biz/mcalisters-deli-glenv...</td>\n",
       "      <td>5</td>\n",
       "      <td>[{'alias': 'salad', 'title': 'Salad'}, {'alias...</td>\n",
       "      <td>5.0</td>\n",
       "      <td>{'latitude': 42.10500897972252, 'longitude': -...</td>\n",
       "      <td>[pickup, delivery]</td>\n",
       "      <td>NaN</td>\n",
       "      <td>{'address1': '2351 Willow Rd', 'address2': '',...</td>\n",
       "      <td>+12245295902</td>\n",
       "      <td>(224) 529-5902</td>\n",
       "      <td>24915.127805</td>\n",
       "    </tr>\n",
       "    <tr>\n",
       "      <th>998</th>\n",
       "      <td>B9GC0mRtbXwR4U9fgehMCg</td>\n",
       "      <td>fullerton-restaurant-chicago-2</td>\n",
       "      <td>Fullerton Restaurant</td>\n",
       "      <td>https://s3-media2.fl.yelpcdn.com/bphoto/XgY_YD...</td>\n",
       "      <td>False</td>\n",
       "      <td>https://www.yelp.com/biz/fullerton-restaurant-...</td>\n",
       "      <td>85</td>\n",
       "      <td>[{'alias': 'diners', 'title': 'Diners'}, {'ali...</td>\n",
       "      <td>4.0</td>\n",
       "      <td>{'latitude': 41.92567, 'longitude': -87.687896}</td>\n",
       "      <td>[]</td>\n",
       "      <td>$</td>\n",
       "      <td>{'address1': '2400 W Fullerton Ave', 'address2...</td>\n",
       "      <td>+17733845500</td>\n",
       "      <td>(773) 384-5500</td>\n",
       "      <td>2429.868056</td>\n",
       "    </tr>\n",
       "    <tr>\n",
       "      <th>999</th>\n",
       "      <td>fLYKOfpvCmy2jQ6YW2FDjQ</td>\n",
       "      <td>the-drunken-bean-chicago-2</td>\n",
       "      <td>The Drunken Bean Coffee &amp; Wine Bar</td>\n",
       "      <td>https://s3-media2.fl.yelpcdn.com/bphoto/zfX3ig...</td>\n",
       "      <td>False</td>\n",
       "      <td>https://www.yelp.com/biz/the-drunken-bean-chic...</td>\n",
       "      <td>105</td>\n",
       "      <td>[{'alias': 'coffee', 'title': 'Coffee &amp; Tea'},...</td>\n",
       "      <td>4.0</td>\n",
       "      <td>{'latitude': 41.886711, 'longitude': -87.616767}</td>\n",
       "      <td>[pickup, delivery]</td>\n",
       "      <td>$$</td>\n",
       "      <td>{'address1': '400 E South Water St', 'address2...</td>\n",
       "      <td>+13125498000</td>\n",
       "      <td>(312) 549-8000</td>\n",
       "      <td>5460.309117</td>\n",
       "    </tr>\n",
       "  </tbody>\n",
       "</table>\n",
       "</div>"
      ],
      "text/plain": [
       "                         id                           alias  \\\n",
       "995  CF4W2FqdND7l8ofXS6nmMg  tropical-smoothie-cafe-burbank   \n",
       "996  EdKG2DIWoHR2W7gc49N4rg          mr-submarine-chicago-4   \n",
       "997  7cXjpAbeA7ApvKHx6FcCOQ        mcalisters-deli-glenview   \n",
       "998  B9GC0mRtbXwR4U9fgehMCg  fullerton-restaurant-chicago-2   \n",
       "999  fLYKOfpvCmy2jQ6YW2FDjQ      the-drunken-bean-chicago-2   \n",
       "\n",
       "                                   name  \\\n",
       "995              Tropical Smoothie Cafe   \n",
       "996                        Mr Submarine   \n",
       "997                    McAlister's Deli   \n",
       "998                Fullerton Restaurant   \n",
       "999  The Drunken Bean Coffee & Wine Bar   \n",
       "\n",
       "                                             image_url  is_closed  \\\n",
       "995  https://s3-media2.fl.yelpcdn.com/bphoto/Zb-Aiv...      False   \n",
       "996  https://s3-media2.fl.yelpcdn.com/bphoto/tYSfOH...      False   \n",
       "997  https://s3-media3.fl.yelpcdn.com/bphoto/ojhVia...      False   \n",
       "998  https://s3-media2.fl.yelpcdn.com/bphoto/XgY_YD...      False   \n",
       "999  https://s3-media2.fl.yelpcdn.com/bphoto/zfX3ig...      False   \n",
       "\n",
       "                                                   url  review_count  \\\n",
       "995  https://www.yelp.com/biz/tropical-smoothie-caf...             2   \n",
       "996  https://www.yelp.com/biz/mr-submarine-chicago-...            56   \n",
       "997  https://www.yelp.com/biz/mcalisters-deli-glenv...             5   \n",
       "998  https://www.yelp.com/biz/fullerton-restaurant-...            85   \n",
       "999  https://www.yelp.com/biz/the-drunken-bean-chic...           105   \n",
       "\n",
       "                                            categories  rating  \\\n",
       "995  [{'alias': 'juicebars', 'title': 'Juice Bars &...     5.0   \n",
       "996  [{'alias': 'sandwiches', 'title': 'Sandwiches'...     3.0   \n",
       "997  [{'alias': 'salad', 'title': 'Salad'}, {'alias...     5.0   \n",
       "998  [{'alias': 'diners', 'title': 'Diners'}, {'ali...     4.0   \n",
       "999  [{'alias': 'coffee', 'title': 'Coffee & Tea'},...     4.0   \n",
       "\n",
       "                                           coordinates        transactions  \\\n",
       "995  {'latitude': 41.751365, 'longitude': -87.7416178}  [pickup, delivery]   \n",
       "996   {'latitude': 41.9249099, 'longitude': -87.66665}  [pickup, delivery]   \n",
       "997  {'latitude': 42.10500897972252, 'longitude': -...  [pickup, delivery]   \n",
       "998    {'latitude': 41.92567, 'longitude': -87.687896}                  []   \n",
       "999   {'latitude': 41.886711, 'longitude': -87.616767}  [pickup, delivery]   \n",
       "\n",
       "    price                                           location         phone  \\\n",
       "995   NaN  {'address1': '7784 S Cicero Ave', 'address2': ...  +17085293946   \n",
       "996     $  {'address1': '1525 W Fullerton Ave', 'address2...  +17733486018   \n",
       "997   NaN  {'address1': '2351 Willow Rd', 'address2': '',...  +12245295902   \n",
       "998     $  {'address1': '2400 W Fullerton Ave', 'address2...  +17733845500   \n",
       "999    $$  {'address1': '400 E South Water St', 'address2...  +13125498000   \n",
       "\n",
       "      display_phone      distance  \n",
       "995  (708) 529-3946  17905.788918  \n",
       "996  (773) 348-6018   2370.724676  \n",
       "997  (224) 529-5902  24915.127805  \n",
       "998  (773) 384-5500   2429.868056  \n",
       "999  (312) 549-8000   5460.309117  "
      ]
     },
     "metadata": {},
     "output_type": "display_data"
    }
   ],
   "source": [
    "# load final results\n",
    "final_df = pd.read_json(JSON_FILE)\n",
    "display(final_df.head(), final_df.tail())"
   ]
  },
  {
   "cell_type": "code",
   "execution_count": 17,
   "id": "2866e070",
   "metadata": {},
   "outputs": [
    {
     "data": {
      "text/plain": [
       "30"
      ]
     },
     "execution_count": 17,
     "metadata": {},
     "output_type": "execute_result"
    }
   ],
   "source": [
    "# check for duplicate ID's \n",
    "final_df.duplicated(subset='id').sum()"
   ]
  },
  {
   "cell_type": "code",
   "execution_count": 18,
   "id": "ec1bb9ed",
   "metadata": {},
   "outputs": [
    {
     "data": {
      "text/plain": [
       "0"
      ]
     },
     "execution_count": 18,
     "metadata": {},
     "output_type": "execute_result"
    }
   ],
   "source": [
    "## Drop duplicate ids and confirm there are no more duplicates\n",
    "final_df = final_df.drop_duplicates(subset='id')\n",
    "final_df.duplicated(subset='id').sum()"
   ]
  },
  {
   "cell_type": "code",
   "execution_count": 19,
   "id": "c6760db9",
   "metadata": {},
   "outputs": [],
   "source": [
    "# save the final results to a compressed csv\n",
    "final_df.to_csv('Data/final_results_Chicago_Sandwich.csv.gz', compression='gzip',index=False)"
   ]
  },
  {
   "cell_type": "code",
   "execution_count": null,
   "id": "40246d90",
   "metadata": {},
   "outputs": [],
   "source": []
  }
 ],
 "metadata": {
  "kernelspec": {
   "display_name": "Python (dojo-env)",
   "language": "python",
   "name": "dojo-env"
  },
  "language_info": {
   "codemirror_mode": {
    "name": "ipython",
    "version": 3
   },
   "file_extension": ".py",
   "mimetype": "text/x-python",
   "name": "python",
   "nbconvert_exporter": "python",
   "pygments_lexer": "ipython3",
   "version": "3.8.13"
  },
  "toc": {
   "base_numbering": 1,
   "nav_menu": {},
   "number_sections": false,
   "sideBar": true,
   "skip_h1_title": false,
   "title_cell": "Table of Contents",
   "title_sidebar": "Contents",
   "toc_cell": false,
   "toc_position": {},
   "toc_section_display": true,
   "toc_window_display": false
  }
 },
 "nbformat": 4,
 "nbformat_minor": 5
}
